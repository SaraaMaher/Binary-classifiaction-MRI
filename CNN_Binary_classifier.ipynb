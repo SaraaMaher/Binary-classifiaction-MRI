{
  "cells": [
    {
      "cell_type": "markdown",
      "metadata": {
        "id": "view-in-github",
        "colab_type": "text"
      },
      "source": [
        "<a href=\"https://colab.research.google.com/github/SaraaMaher/Binary-classifiaction-MRI/blob/main/CNN_Binary_classifier.ipynb\" target=\"_parent\"><img src=\"https://colab.research.google.com/assets/colab-badge.svg\" alt=\"Open In Colab\"/></a>"
      ]
    },
    {
      "cell_type": "code",
      "execution_count": null,
      "metadata": {
        "id": "kLqZCLtjpvTu",
        "colab": {
          "base_uri": "https://localhost:8080/"
        },
        "outputId": "56b3277d-c6b8-4e6d-8fa1-7bfc0d6da817"
      },
      "outputs": [
        {
          "output_type": "stream",
          "name": "stdout",
          "text": [
            "Mounted at /content/drive/\n"
          ]
        }
      ],
      "source": [
        "from google.colab import drive\n",
        "drive.mount('/content/drive/')"
      ]
    },
    {
      "cell_type": "code",
      "execution_count": null,
      "metadata": {
        "id": "P3utSkk3tsmG",
        "colab": {
          "base_uri": "https://localhost:8080/"
        },
        "outputId": "bfc4e4a9-1276-4269-ec8c-76f4eafc7dd9"
      },
      "outputs": [
        {
          "output_type": "stream",
          "name": "stdout",
          "text": [
            "Collecting tflearn\n",
            "  Downloading tflearn-0.5.0.tar.gz (107 kB)\n",
            "\u001b[?25l\r\u001b[K     |███                             | 10 kB 22.9 MB/s eta 0:00:01\r\u001b[K     |██████                          | 20 kB 27.1 MB/s eta 0:00:01\r\u001b[K     |█████████▏                      | 30 kB 22.3 MB/s eta 0:00:01\r\u001b[K     |████████████▏                   | 40 kB 17.8 MB/s eta 0:00:01\r\u001b[K     |███████████████▎                | 51 kB 11.2 MB/s eta 0:00:01\r\u001b[K     |██████████████████▎             | 61 kB 13.0 MB/s eta 0:00:01\r\u001b[K     |█████████████████████▍          | 71 kB 12.7 MB/s eta 0:00:01\r\u001b[K     |████████████████████████▍       | 81 kB 12.3 MB/s eta 0:00:01\r\u001b[K     |███████████████████████████▌    | 92 kB 13.5 MB/s eta 0:00:01\r\u001b[K     |██████████████████████████████▌ | 102 kB 14.6 MB/s eta 0:00:01\r\u001b[K     |████████████████████████████████| 107 kB 14.6 MB/s \n",
            "\u001b[?25hRequirement already satisfied: numpy in /usr/local/lib/python3.7/dist-packages (from tflearn) (1.21.5)\n",
            "Requirement already satisfied: six in /usr/local/lib/python3.7/dist-packages (from tflearn) (1.15.0)\n",
            "Requirement already satisfied: Pillow in /usr/local/lib/python3.7/dist-packages (from tflearn) (7.1.2)\n",
            "Building wheels for collected packages: tflearn\n",
            "  Building wheel for tflearn (setup.py) ... \u001b[?25l\u001b[?25hdone\n",
            "  Created wheel for tflearn: filename=tflearn-0.5.0-py3-none-any.whl size=127299 sha256=7fd4359d4b10f14830115d5c354cde2ea0ffb43a420c68cda53cf553e51cbca2\n",
            "  Stored in directory: /root/.cache/pip/wheels/5f/14/2e/1d8e28cc47a5a931a2fb82438c9e37ef9246cc6a3774520271\n",
            "Successfully built tflearn\n",
            "Installing collected packages: tflearn\n",
            "Successfully installed tflearn-0.5.0\n"
          ]
        }
      ],
      "source": [
        "!pip install tflearn"
      ]
    },
    {
      "cell_type": "code",
      "execution_count": null,
      "metadata": {
        "id": "jdl1dCh-p31g",
        "colab": {
          "base_uri": "https://localhost:8080/"
        },
        "outputId": "d34734a0-cac0-42e1-ceb0-35ea680f37c5"
      },
      "outputs": [
        {
          "output_type": "stream",
          "name": "stdout",
          "text": [
            "WARNING:tensorflow:From /usr/local/lib/python3.7/dist-packages/tensorflow/python/compat/v2_compat.py:107: disable_resource_variables (from tensorflow.python.ops.variable_scope) is deprecated and will be removed in a future version.\n",
            "Instructions for updating:\n",
            "non-resource variables are not supported in the long term\n"
          ]
        }
      ],
      "source": [
        "import cv2\n",
        "import numpy as np\n",
        "import glob\n",
        "import tensorflow as tf\n",
        "import matplotlib.pyplot as plt\n",
        "import os\n",
        "from tensorflow.keras import datasets, layers, models\n",
        "from tflearn.layers.conv import conv_2d, max_pool_2d\n",
        "from tflearn.layers.core import input_data, dropout, fully_connected\n",
        "from tflearn.layers.estimator import regression\n",
        "from google.colab.patches import cv2_imshow\n",
        "from tensorflow.keras.layers import Dense, BatchNormalization\n",
        "from skimage.io import imread_collection\n",
        "from sklearn.metrics import confusion_matrix\n",
        "import itertools\n",
        "from tensorflow import keras\n",
        "\n",
        "from tensorflow.keras import optimizers\n",
        "optimizers.RMSprop\n",
        "optimizers.Adam\n",
        "from keras.preprocessing.image import ImageDataGenerator\n",
        "from keras.callbacks import ReduceLROnPlateau\n",
        "from keras.callbacks import EarlyStopping"
      ]
    },
    {
      "cell_type": "code",
      "execution_count": null,
      "metadata": {
        "id": "di5FwY2Fp7F_"
      },
      "outputs": [],
      "source": [
        "!unzip /content/drive/MyDrive/BinaryModelnoaug.zip"
      ]
    },
    {
      "cell_type": "code",
      "execution_count": null,
      "metadata": {
        "id": "3kDTBHa-qB4B"
      },
      "outputs": [],
      "source": [
        "path = \"/content/drive/MyDrive/BinaryModelFull\"\n",
        "IMG_SIZE=224\n"
      ]
    },
    {
      "cell_type": "code",
      "execution_count": null,
      "metadata": {
        "id": "ohjWFXJLqClu"
      },
      "outputs": [],
      "source": [
        "def load_images_from_folder(path,l,Data,label):\n",
        "    for filename in os.listdir(path):\n",
        "        img = cv2.imread(os.path.join(path,filename))\n",
        "        img = cv2.cvtColor(img,cv2.COLOR_BGR2GRAY)\n",
        "        img = cv2.resize(img,(IMG_SIZE,IMG_SIZE),interpolation=cv2.INTER_LINEAR)\n",
        "        img = img.reshape(img.shape+(1,)) \n",
        "        #img = img.astype(np.uint8)\n",
        "        cv2.waitKey(0)\n",
        "        # Blur the image for better edge detection\n",
        "        img_blur = cv2.GaussianBlur(img, (3,3), 0)\n",
        "\n",
        "       # Canny Edge Detection\n",
        "        edges = cv2.Canny(image=img_blur, threshold1=30, threshold2=150) # Canny Edge Detection\n",
        "       # Display Canny Edge Detection Image\n",
        "        #cv2_imshow( edges)\n",
        "        cv2.waitKey(0)\n",
        "        cv2.waitKey(0)\n",
        "\n",
        "        pts = np.argwhere(edges>0)\n",
        "        y1,x1 = pts.min(axis=0)\n",
        "        y2,x2 = pts.max(axis=0)\n",
        "\n",
        "        ## crop the region\n",
        "        cropped = img[y1:y2, x1:x2]\n",
        "        cv2.imwrite(\"cropped.png\", cropped)\n",
        "\n",
        "        tagged = cv2.rectangle(img.copy(), (x1,y1), (x2,y2), (0,255,0), 3, cv2.LINE_AA)\n",
        "        #cv2_imshow( tagged)\n",
        "        cv2.waitKey()\n",
        "        cv2.destroyAllWindows()\n",
        "        if tagged is not None:\n",
        "            Data.append(tagged)\n",
        "            l = l.astype(np.uint8)\n",
        "            label.append(l)"
      ]
    },
    {
      "cell_type": "code",
      "execution_count": null,
      "metadata": {
        "id": "R0X_beW2qNUJ"
      },
      "outputs": [],
      "source": [
        "def load_data(path2):\n",
        "  fullpath=path+path2\n",
        "  Data=[]\n",
        "  label=[]\n",
        "  load_images_from_folder(fullpath+\"/yes\",np.array([0]),Data,label)\n",
        "  load_images_from_folder(fullpath+\"/no\",np.array([1]),Data,label)\n",
        "  Data=np.array(Data)\n",
        "  label=np.array(label)\n",
        "  return Data,label"
      ]
    },
    {
      "cell_type": "code",
      "execution_count": null,
      "metadata": {
        "id": "YDNdeazOvNtO"
      },
      "outputs": [],
      "source": [
        "Train_Data,Train_Label=load_data(\"/Training\")\n",
        "Test_Data,Test_Label=load_data(\"/Testing\")\n",
        "Validation_Data,validation_Label=load_data(\"/Validation\")"
      ]
    },
    {
      "cell_type": "code",
      "source": [
        "Test_Label = keras.utils.to_categorical(Test_Label, 2)\n",
        "Train_Label = keras.utils.to_categorical(Train_Label, 2)\n"
      ],
      "metadata": {
        "id": "wEyLmxGAKV_g"
      },
      "execution_count": null,
      "outputs": []
    },
    {
      "cell_type": "code",
      "source": [
        "\n",
        "Val_Label = keras.utils.to_categorical(validation_Label, 2)"
      ],
      "metadata": {
        "id": "zYm7NXlTwx2q"
      },
      "execution_count": null,
      "outputs": []
    },
    {
      "cell_type": "code",
      "execution_count": null,
      "metadata": {
        "colab": {
          "base_uri": "https://localhost:8080/"
        },
        "id": "Rj_I2jsr6cWz",
        "outputId": "a5aee7fd-f5fb-43e6-d4e0-1bd272bf8b99"
      },
      "outputs": [
        {
          "output_type": "stream",
          "name": "stdout",
          "text": [
            "(9751, 2)\n"
          ]
        }
      ],
      "source": [
        "print(Train_Label.shape)"
      ]
    },
    {
      "cell_type": "code",
      "execution_count": null,
      "metadata": {
        "id": "5xylEJn0Aq1l",
        "colab": {
          "base_uri": "https://localhost:8080/"
        },
        "outputId": "fbb9949b-7eb1-4e52-f739-e6df68d6ae54"
      },
      "outputs": [
        {
          "output_type": "stream",
          "name": "stderr",
          "text": [
            "/usr/local/lib/python3.7/dist-packages/tensorflow/python/util/dispatch.py:1082: UserWarning: \"`categorical_crossentropy` received `from_logits=True`, but the `output` argument was produced by a sigmoid or softmax activation and thus does not represent logits. Was this intended?\"\n",
            "  return dispatch_target(*args, **kwargs)\n"
          ]
        },
        {
          "output_type": "stream",
          "name": "stdout",
          "text": [
            "Train on 9751 samples, validate on 745 samples\n",
            "Epoch 1/50\n",
            "9751/9751 [==============================] - ETA: 0s - loss: 0.7625 - acc: 0.7220"
          ]
        },
        {
          "output_type": "stream",
          "name": "stderr",
          "text": [
            "/usr/local/lib/python3.7/dist-packages/keras/engine/training_v1.py:2057: UserWarning: `Model.state_updates` will be removed in a future version. This property should not be used in TensorFlow 2.0, as `updates` are applied automatically.\n",
            "  updates = self.state_updates\n"
          ]
        },
        {
          "output_type": "stream",
          "name": "stdout",
          "text": [
            "\b\b\b\b\b\b\b\b\b\b\b\b\b\b\b\b\b\b\b\b\b\b\b\b\b\b\b\b\b\b\b\b\b\b\b\b\b\b\b\b\b\b\b\b\b\b\b\b\b\b\b\b\b\b\b\b\b\b\b\b\b\b\b\b\b\b\b\b\b\b\b\b\b\b\b\b\b\b\b\b\b\r9751/9751 [==============================] - 15s 2ms/sample - loss: 0.7625 - acc: 0.7220 - val_loss: 0.3805 - val_acc: 0.8215\n",
            "Epoch 2/50\n",
            "9751/9751 [==============================] - 15s 2ms/sample - loss: 0.3912 - acc: 0.8169 - val_loss: 0.3076 - val_acc: 0.8604\n",
            "Epoch 3/50\n",
            "9751/9751 [==============================] - 16s 2ms/sample - loss: 0.3215 - acc: 0.8603 - val_loss: 0.4001 - val_acc: 0.8322\n",
            "Epoch 4/50\n",
            "9751/9751 [==============================] - 16s 2ms/sample - loss: 0.2375 - acc: 0.8980 - val_loss: 0.2100 - val_acc: 0.9114\n",
            "Epoch 5/50\n",
            "9751/9751 [==============================] - 15s 2ms/sample - loss: 0.1731 - acc: 0.9324 - val_loss: 0.1974 - val_acc: 0.9101\n",
            "Epoch 6/50\n",
            "9751/9751 [==============================] - 15s 2ms/sample - loss: 0.1381 - acc: 0.9453 - val_loss: 0.1836 - val_acc: 0.9208\n",
            "Epoch 7/50\n",
            "9751/9751 [==============================] - 15s 2ms/sample - loss: 0.0950 - acc: 0.9639 - val_loss: 0.2029 - val_acc: 0.9262\n",
            "Epoch 8/50\n",
            "9751/9751 [==============================] - 15s 2ms/sample - loss: 0.0669 - acc: 0.9777 - val_loss: 0.1899 - val_acc: 0.9221\n",
            "Epoch 9/50\n",
            "9751/9751 [==============================] - 15s 2ms/sample - loss: 0.0688 - acc: 0.9764 - val_loss: 0.1960 - val_acc: 0.9302\n",
            "Epoch 10/50\n",
            "9751/9751 [==============================] - 15s 2ms/sample - loss: 0.0528 - acc: 0.9820 - val_loss: 0.2035 - val_acc: 0.9302\n",
            "Epoch 11/50\n",
            "9751/9751 [==============================] - 15s 2ms/sample - loss: 0.0346 - acc: 0.9871 - val_loss: 0.1643 - val_acc: 0.9463\n",
            "Epoch 12/50\n",
            "9751/9751 [==============================] - 15s 2ms/sample - loss: 0.0194 - acc: 0.9939 - val_loss: 0.2306 - val_acc: 0.9342\n",
            "Epoch 13/50\n",
            "9751/9751 [==============================] - 15s 2ms/sample - loss: 0.0402 - acc: 0.9857 - val_loss: 0.2069 - val_acc: 0.9450\n",
            "Epoch 14/50\n",
            "9751/9751 [==============================] - 15s 2ms/sample - loss: 0.0540 - acc: 0.9812 - val_loss: 0.2002 - val_acc: 0.9329\n",
            "Epoch 15/50\n",
            "9751/9751 [==============================] - 15s 2ms/sample - loss: 0.0434 - acc: 0.9838 - val_loss: 0.2714 - val_acc: 0.9181\n",
            "Epoch 16/50\n",
            "9751/9751 [==============================] - 15s 2ms/sample - loss: 0.0241 - acc: 0.9919 - val_loss: 0.2258 - val_acc: 0.9436\n",
            "Epoch 17/50\n",
            "9751/9751 [==============================] - 15s 2ms/sample - loss: 0.0285 - acc: 0.9892 - val_loss: 0.2066 - val_acc: 0.9383\n",
            "Epoch 18/50\n",
            "9751/9751 [==============================] - 15s 2ms/sample - loss: 0.0296 - acc: 0.9891 - val_loss: 0.2742 - val_acc: 0.9221\n",
            "Epoch 19/50\n",
            "9751/9751 [==============================] - 15s 2ms/sample - loss: 0.0491 - acc: 0.9832 - val_loss: 0.3031 - val_acc: 0.9154\n",
            "Epoch 20/50\n",
            "9751/9751 [==============================] - 15s 2ms/sample - loss: 0.0217 - acc: 0.9922 - val_loss: 0.2142 - val_acc: 0.9450\n",
            "Epoch 21/50\n",
            "9751/9751 [==============================] - 16s 2ms/sample - loss: 0.0152 - acc: 0.9949 - val_loss: 0.2279 - val_acc: 0.9369\n",
            "Epoch 22/50\n",
            "9751/9751 [==============================] - 15s 2ms/sample - loss: 0.0430 - acc: 0.9841 - val_loss: 0.2306 - val_acc: 0.9383\n",
            "Epoch 23/50\n",
            "9751/9751 [==============================] - 16s 2ms/sample - loss: 0.0136 - acc: 0.9952 - val_loss: 0.2951 - val_acc: 0.9329\n",
            "Epoch 24/50\n",
            "9751/9751 [==============================] - 15s 2ms/sample - loss: 0.0185 - acc: 0.9931 - val_loss: 0.2921 - val_acc: 0.9436\n",
            "Epoch 25/50\n",
            "9751/9751 [==============================] - 16s 2ms/sample - loss: 0.0265 - acc: 0.9908 - val_loss: 0.2071 - val_acc: 0.9436\n",
            "Epoch 26/50\n",
            "9751/9751 [==============================] - 15s 2ms/sample - loss: 0.0274 - acc: 0.9913 - val_loss: 0.2188 - val_acc: 0.9450\n",
            "Epoch 27/50\n",
            "9751/9751 [==============================] - 15s 2ms/sample - loss: 0.0111 - acc: 0.9960 - val_loss: 0.1916 - val_acc: 0.9557\n",
            "Epoch 28/50\n",
            "9751/9751 [==============================] - 15s 2ms/sample - loss: 0.0032 - acc: 0.9994 - val_loss: 0.2348 - val_acc: 0.9436\n",
            "Epoch 29/50\n",
            "9751/9751 [==============================] - 15s 2ms/sample - loss: 0.0430 - acc: 0.9847 - val_loss: 0.1990 - val_acc: 0.9477\n",
            "Epoch 30/50\n",
            "9751/9751 [==============================] - 15s 2ms/sample - loss: 0.0050 - acc: 0.9988 - val_loss: 0.1998 - val_acc: 0.9557\n",
            "Epoch 31/50\n",
            "9751/9751 [==============================] - 16s 2ms/sample - loss: 6.7831e-04 - acc: 0.9999 - val_loss: 0.2028 - val_acc: 0.9557\n",
            "Epoch 32/50\n",
            "9751/9751 [==============================] - 15s 2ms/sample - loss: 1.4117e-04 - acc: 1.0000 - val_loss: 0.2018 - val_acc: 0.9557\n",
            "Epoch 33/50\n",
            "9751/9751 [==============================] - 16s 2ms/sample - loss: 6.1723e-05 - acc: 1.0000 - val_loss: 0.2026 - val_acc: 0.9570\n",
            "Epoch 34/50\n",
            "9751/9751 [==============================] - 15s 2ms/sample - loss: 4.4825e-05 - acc: 1.0000 - val_loss: 0.2041 - val_acc: 0.9570\n",
            "Epoch 35/50\n",
            "9751/9751 [==============================] - 16s 2ms/sample - loss: 3.5436e-05 - acc: 1.0000 - val_loss: 0.2057 - val_acc: 0.9570\n",
            "Epoch 36/50\n",
            "9751/9751 [==============================] - 16s 2ms/sample - loss: 2.8648e-05 - acc: 1.0000 - val_loss: 0.2080 - val_acc: 0.9570\n",
            "Epoch 37/50\n",
            "9751/9751 [==============================] - 15s 2ms/sample - loss: 2.3544e-05 - acc: 1.0000 - val_loss: 0.2102 - val_acc: 0.9584\n",
            "Epoch 38/50\n",
            "9751/9751 [==============================] - 15s 2ms/sample - loss: 1.9572e-05 - acc: 1.0000 - val_loss: 0.2128 - val_acc: 0.9584\n",
            "Epoch 39/50\n",
            "9751/9751 [==============================] - 16s 2ms/sample - loss: 1.6355e-05 - acc: 1.0000 - val_loss: 0.2152 - val_acc: 0.9584\n",
            "Epoch 40/50\n",
            "9751/9751 [==============================] - 16s 2ms/sample - loss: 1.3681e-05 - acc: 1.0000 - val_loss: 0.2180 - val_acc: 0.9597\n",
            "Epoch 41/50\n",
            "9751/9751 [==============================] - 15s 2ms/sample - loss: 1.1506e-05 - acc: 1.0000 - val_loss: 0.2199 - val_acc: 0.9584\n",
            "Epoch 42/50\n",
            "9751/9751 [==============================] - 15s 2ms/sample - loss: 9.7169e-06 - acc: 1.0000 - val_loss: 0.2227 - val_acc: 0.9597\n",
            "Epoch 43/50\n",
            "9751/9751 [==============================] - 16s 2ms/sample - loss: 8.2022e-06 - acc: 1.0000 - val_loss: 0.2254 - val_acc: 0.9597\n",
            "Epoch 44/50\n",
            "9751/9751 [==============================] - 16s 2ms/sample - loss: 6.9103e-06 - acc: 1.0000 - val_loss: 0.2280 - val_acc: 0.9597\n",
            "Epoch 45/50\n",
            "9751/9751 [==============================] - 16s 2ms/sample - loss: 5.8482e-06 - acc: 1.0000 - val_loss: 0.2309 - val_acc: 0.9597\n",
            "Epoch 46/50\n",
            "9751/9751 [==============================] - 15s 2ms/sample - loss: 4.9534e-06 - acc: 1.0000 - val_loss: 0.2332 - val_acc: 0.9611\n",
            "Epoch 47/50\n",
            "9751/9751 [==============================] - 16s 2ms/sample - loss: 4.2028e-06 - acc: 1.0000 - val_loss: 0.2362 - val_acc: 0.9611\n",
            "Epoch 48/50\n",
            "9751/9751 [==============================] - 16s 2ms/sample - loss: 3.5352e-06 - acc: 1.0000 - val_loss: 0.2394 - val_acc: 0.9597\n",
            "Epoch 49/50\n",
            "9751/9751 [==============================] - 15s 2ms/sample - loss: 3.0108e-06 - acc: 1.0000 - val_loss: 0.2420 - val_acc: 0.9611\n",
            "Epoch 50/50\n",
            "9751/9751 [==============================] - 16s 2ms/sample - loss: 2.5438e-06 - acc: 1.0000 - val_loss: 0.2450 - val_acc: 0.9611\n"
          ]
        }
      ],
      "source": [
        "\n",
        "import keras.backend as K\n",
        "K.clear_session()\n",
        "\n",
        "model = models.Sequential()\n",
        "model.add(layers.Conv2D(16,(3,3), activation='relu',   input_shape=(224,224,1)))\n",
        "model.add(layers.MaxPooling2D(pool_size=(2,2) ))\n",
        "\n",
        "\n",
        "model.add(layers.Conv2D(32, (3,3),activation ='relu'))\n",
        "model.add(layers.Conv2D(32, (3,3),activation ='relu' ))\n",
        "\n",
        "model.add(layers.MaxPooling2D(pool_size = (2, 2) ))\n",
        "\n",
        "model.add(layers.Conv2D(64, (3,3),activation ='relu' ))\n",
        "model.add(layers.Conv2D(64, (3,3),activation ='relu' ))\n",
        "model.add(layers.Conv2D(64, (3,3),activation ='relu' ))\n",
        "\n",
        "model.add(layers.MaxPooling2D(pool_size = (2, 2) ))\n",
        "\n",
        "model.add(layers.Conv2D(128, (3,3),activation ='relu' ))\n",
        "model.add(layers.Conv2D(128, (3,3),activation ='relu' ))\n",
        "\n",
        "\n",
        "model.add(layers.MaxPooling2D(pool_size = (2, 2) ))\n",
        "\n",
        "\n",
        "model.add(layers.Flatten())\n",
        "model.add(layers.Dense(256))\n",
        "\n",
        "\n",
        "model.add(tf.keras.layers.Dense(2, activation = \"softmax\"))  \n",
        "\n",
        "opt = keras.optimizers.Adam(learning_rate=0.0001)\n",
        "\n",
        "\n",
        "model.compile(optimizer=opt ,loss=tf.keras.losses.CategoricalCrossentropy(from_logits=True),metrics=['accuracy'] )\n",
        "\n",
        "\n",
        "history = model.fit(Train_Data,Train_Label,epochs=50,validation_data=(Validation_Data, Val_Label))"
      ]
    },
    {
      "cell_type": "code",
      "execution_count": null,
      "metadata": {
        "id": "FiYK-1Vq3h6T",
        "colab": {
          "base_uri": "https://localhost:8080/",
          "height": 301
        },
        "outputId": "40b8b39e-7965-450d-c411-d0133e02aca2"
      },
      "outputs": [
        {
          "output_type": "stream",
          "name": "stdout",
          "text": [
            "0.9510574\n"
          ]
        },
        {
          "output_type": "display_data",
          "data": {
            "text/plain": [
              "<Figure size 432x288 with 1 Axes>"
            ],
            "image/png": "[encoded data removed]"
          },
          "metadata": {
            "needs_background": "light"
          }
        }
      ],
      "source": [
        "plt.plot(history.history['acc'], label='accuracy')\n",
        "plt.plot(history.history['val_acc'], label = 'val_accuracy')\n",
        "plt.xlabel('Epoch')\n",
        "plt.ylabel('Accuracy')\n",
        "plt.ylim([0.5, 1])\n",
        "plt.legend(loc='lower right')\n",
        "\n",
        "test_loss, test_acc = model.evaluate(Test_Data,Test_Label, verbose=2)\n",
        "print(test_acc)"
      ]
    },
    {
      "cell_type": "code",
      "execution_count": null,
      "metadata": {
        "id": "FWzkS7x8fshT",
        "colab": {
          "base_uri": "https://localhost:8080/",
          "height": 295
        },
        "outputId": "868297c7-31df-49ef-991d-523e9f22757a"
      },
      "outputs": [
        {
          "output_type": "display_data",
          "data": {
            "text/plain": [
              "<Figure size 432x288 with 1 Axes>"
            ],
            "image/png": "[encoded data removed]"
          },
          "metadata": {
            "needs_background": "light"
          }
        }
      ],
      "source": [
        "loss_train = history.history['loss']\n",
        "loss_val = history.history['val_loss']\n",
        "epochs = range(1,35)\n",
        "plt.plot(loss_train, 'g', label='Training loss')\n",
        "plt.plot(loss_val, 'b', label='validation loss')\n",
        "plt.title('Training and Validation loss')\n",
        "plt.xlabel('Epochs')\n",
        "plt.ylabel('Loss')\n",
        "plt.legend()\n",
        "plt.show()"
      ]
    },
    {
      "cell_type": "code",
      "source": [
        ""
      ],
      "metadata": {
        "id": "SB__eZbGUkwf"
      },
      "execution_count": null,
      "outputs": []
    },
    {
      "cell_type": "code",
      "execution_count": null,
      "metadata": {
        "id": "H6WIWdcFjRnQ"
      },
      "outputs": [],
      "source": [
        "y_predict=model.predict(Test_Data)\n",
        "classes_x=np.argmax(y_predict,axis=1)\n",
        "from sklearn.metrics import accuracy_score\n",
        "from sklearn.metrics import precision_score\n",
        "from sklearn.metrics import recall_score\n",
        "from sklearn.metrics import f1_score\n",
        "from sklearn.metrics import cohen_kappa_score\n",
        "from sklearn.metrics import roc_auc_score\n",
        "from sklearn.metrics import confusion_matrix\n",
        "from sklearn.metrics import multilabel_confusion_matrix\n",
        "from sklearn import metrics\n",
        "matrix = metrics.confusion_matrix(Test_Label,classes_x )\n",
        "print(matrix)\n",
        "matrix=np.flip(matrix) \n",
        "acc = (matrix[0][0] + matrix[-1][-1]) / np.sum(matrix)\n",
        "prec=(matrix[0][0]/(matrix[0][0]+matrix[1][0]))\n",
        "recall=(matrix[0][0]/(matrix[0][0]+matrix[0][1]))\n",
        "sp=(matrix[1][1]/(matrix[1][1]+matrix[1][0]))\n",
        "print(acc)\n",
        "print(prec)\n",
        "print(recall)\n",
        "print(sp)"
      ]
    }
  ],
  "metadata": {
    "accelerator": "GPU",
    "colab": {
      "collapsed_sections": [],
      "name": "CNN Binary classifier.ipynb",
      "provenance": [],
      "include_colab_link": true
    },
    "kernelspec": {
      "display_name": "Python 3",
      "name": "python3"
    },
    "language_info": {
      "name": "python"
    }
  },
  "nbformat": 4,
  "nbformat_minor": 0
}